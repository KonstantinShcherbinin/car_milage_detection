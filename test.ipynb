{
 "cells": [
  {
   "cell_type": "code",
   "execution_count": null,
   "metadata": {},
   "outputs": [],
   "source": [
    "from main import main"
   ]
  },
  {
   "cell_type": "code",
   "execution_count": null,
   "metadata": {},
   "outputs": [],
   "source": [
    "#pip install pytesseract"
   ]
  },
  {
   "cell_type": "code",
   "execution_count": null,
   "metadata": {},
   "outputs": [],
   "source": [
    "#img_path = 'C:\\\\Users\\\\shers\\\\car_milage_detection\\\\data\\\\autoservice_priem_305_1138747_7.jpg'\n",
    "#img_path = 'C:\\\\Users\\\\shers\\\\car_milage_detection\\\\data\\\\autoservice_priem_305_1434775_5.jpg'\n",
    "img_path = 'C:\\\\Users\\\\shers\\\\car_milage_detection\\\\data\\\\autoservice_priem_305_1435280_6.jpg'\n",
    "#img_path = 'C:\\\\Users\\\\shers\\\\Desktop\\\\cars\\\\autoservice_priem_305_1436523_10.jpg'\n",
    "#img_path = 'C:\\\\Users\\\\shers\\\\Desktop\\\\cars\\\\autoservice_priem_305_1436966_10.jpg'\n",
    "#img_path = 'C:\\\\Users\\\\shers\\\\Desktop\\\\1_1.png'\n",
    "main(img_path)"
   ]
  },
  {
   "cell_type": "code",
   "execution_count": null,
   "metadata": {},
   "outputs": [],
   "source": [
    "import os"
   ]
  },
  {
   "cell_type": "code",
   "execution_count": null,
   "metadata": {},
   "outputs": [],
   "source": [
    "file_path = 'c:\\\\User\\\\sher\\\\new.txt'\n",
    "file_name = os.path.basename(file_path)\n",
    "img_enc_path = ''.join([\n",
    "        os.path.dirname(file_path),\n",
    "        '\\\\',\n",
    "        os.path.splitext(file_name)[0],\n",
    "        '.base64'\n",
    "    ])\n",
    "print(img_enc_path)"
   ]
  },
  {
   "cell_type": "code",
   "execution_count": null,
   "metadata": {},
   "outputs": [],
   "source": [
    "from car_milage_detection.get_vision_config import get_config\n",
    "\n",
    "path = 'C:\\\\Users\\\\shers\\\\Desktop\\\\cars\\\\autoservice_priem_305_1406954_9.jpg'\n",
    "get_config(path)"
   ]
  },
  {
   "cell_type": "code",
   "execution_count": null,
   "metadata": {},
   "outputs": [],
   "source": [
    "import json\n",
    "\n",
    "config_path = 'config\\\\body.json'\n",
    "\n",
    "with open(config_path, 'r', encoding='utf-8') as f:\n",
    "    params = json.load(f)\n",
    "data = {params}\n",
    "print(data)"
   ]
  },
  {
   "cell_type": "code",
   "execution_count": 1,
   "metadata": {},
   "outputs": [
    {
     "data": {
      "text/plain": [
       "<Response [400]>"
      ]
     },
     "execution_count": 1,
     "metadata": {},
     "output_type": "execute_result"
    }
   ],
   "source": [
    "from car_milage_detection.yandex_vision import detection\n",
    "\n",
    "iam_token = 't1.9euelZrNlsfHmciVm4yPjYuLnMnNne3rnpWazJfOjIyXnpyNlJfIkpmezcbl9PcDa2Fa-e97Mz663fT3QxlfWvnvezM-us3n9euelZrIjZOOlYvGicrGm8nHz5OXlO_8xeuelZrIjZOOlYvGicrGm8nHz5OXlA.1m0BbYqErPAIlCf80A4s7PWR0XZ9kERST3tbSK0StyhhbJ02wHMdvah1n1ejGYGB9_YVcE9HlIhSsXeNSJ9qBw'\n",
    "config = 'C:\\\\Users\\\\shers\\\\car_milage_detection\\\\data\\\\autoservice_priem_305_1434775_5.jpg'\n",
    "#config = 'config\\\\body.json'\n",
    "\n",
    "detection(config)"
   ]
  },
  {
   "cell_type": "code",
   "execution_count": 4,
   "metadata": {},
   "outputs": [],
   "source": [
    "import os\n",
    "import cv2\n",
    "from myUtils.img_convertation import bgrtogray_binarization\n",
    "\n",
    "directory = 'C:\\\\Users\\\\shers\\\\car_milage_detection\\\\data\\\\original'\n",
    "for filename in os.listdir(directory):\n",
    "    path = os.path.join(directory, filename)\n",
    "    converted_file_path = os.path.join(\n",
    "        os.path.split(directory)[0],\n",
    "        'grayscale',\n",
    "        filename\n",
    "    )\n",
    "    if os.path.isfile(path):\n",
    "        cv2.imwrite(converted_file_path, bgrtogray_binarization(path))"
   ]
  }
 ],
 "metadata": {
  "kernelspec": {
   "display_name": "base",
   "language": "python",
   "name": "python3"
  },
  "language_info": {
   "codemirror_mode": {
    "name": "ipython",
    "version": 3
   },
   "file_extension": ".py",
   "mimetype": "text/x-python",
   "name": "python",
   "nbconvert_exporter": "python",
   "pygments_lexer": "ipython3",
   "version": "3.7.0"
  },
  "orig_nbformat": 4
 },
 "nbformat": 4,
 "nbformat_minor": 2
}
