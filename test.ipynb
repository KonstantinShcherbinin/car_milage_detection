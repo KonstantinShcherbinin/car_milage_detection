{
 "cells": [
  {
   "cell_type": "code",
   "execution_count": 1,
   "metadata": {},
   "outputs": [],
   "source": [
    "import os\n",
    "import pandas as pd\n",
    "from main import main"
   ]
  },
  {
   "cell_type": "code",
   "execution_count": 2,
   "metadata": {},
   "outputs": [
    {
     "data": {
      "text/html": [
       "<div>\n",
       "<style scoped>\n",
       "    .dataframe tbody tr th:only-of-type {\n",
       "        vertical-align: middle;\n",
       "    }\n",
       "\n",
       "    .dataframe tbody tr th {\n",
       "        vertical-align: top;\n",
       "    }\n",
       "\n",
       "    .dataframe thead th {\n",
       "        text-align: right;\n",
       "    }\n",
       "</style>\n",
       "<table border=\"1\" class=\"dataframe\">\n",
       "  <thead>\n",
       "    <tr style=\"text-align: right;\">\n",
       "      <th></th>\n",
       "      <th>name</th>\n",
       "      <th>mileage_tesseract</th>\n",
       "      <th>mileage_vision</th>\n",
       "    </tr>\n",
       "  </thead>\n",
       "  <tbody>\n",
       "    <tr>\n",
       "      <th>0</th>\n",
       "      <td>data\\original\\autoservice_priem_305_1138747_7.jpg</td>\n",
       "      <td>269532</td>\n",
       "      <td>269532</td>\n",
       "    </tr>\n",
       "    <tr>\n",
       "      <th>1</th>\n",
       "      <td>data\\original\\autoservice_priem_305_1388952_13...</td>\n",
       "      <td>NaN</td>\n",
       "      <td>NaN</td>\n",
       "    </tr>\n",
       "    <tr>\n",
       "      <th>2</th>\n",
       "      <td>data\\original\\autoservice_priem_305_1434775_5.jpg</td>\n",
       "      <td>12952</td>\n",
       "      <td>NaN</td>\n",
       "    </tr>\n",
       "    <tr>\n",
       "      <th>3</th>\n",
       "      <td>data\\original\\autoservice_priem_305_1435280_6.jpg</td>\n",
       "      <td>1000</td>\n",
       "      <td>852961</td>\n",
       "    </tr>\n",
       "    <tr>\n",
       "      <th>4</th>\n",
       "      <td>data\\original\\autoservice_priem_305_1436523_10...</td>\n",
       "      <td>130747</td>\n",
       "      <td>NaN</td>\n",
       "    </tr>\n",
       "    <tr>\n",
       "      <th>5</th>\n",
       "      <td>data\\original\\autoservice_priem_305_1436966_10...</td>\n",
       "      <td>NaN</td>\n",
       "      <td>29234</td>\n",
       "    </tr>\n",
       "  </tbody>\n",
       "</table>\n",
       "</div>"
      ],
      "text/plain": [
       "                                                name mileage_tesseract  \\\n",
       "0  data\\original\\autoservice_priem_305_1138747_7.jpg            269532   \n",
       "1  data\\original\\autoservice_priem_305_1388952_13...               NaN   \n",
       "2  data\\original\\autoservice_priem_305_1434775_5.jpg             12952   \n",
       "3  data\\original\\autoservice_priem_305_1435280_6.jpg              1000   \n",
       "4  data\\original\\autoservice_priem_305_1436523_10...            130747   \n",
       "5  data\\original\\autoservice_priem_305_1436966_10...               NaN   \n",
       "\n",
       "  mileage_vision  \n",
       "0         269532  \n",
       "1            NaN  \n",
       "2            NaN  \n",
       "3         852961  \n",
       "4            NaN  \n",
       "5          29234  "
      ]
     },
     "metadata": {},
     "output_type": "display_data"
    }
   ],
   "source": [
    "directory = 'data\\\\original'\n",
    "config='config\\\\detection_config.json'\n",
    "config_2='config\\\\detection_config_2.json'\n",
    "mileage_dict = {'name':[], 'mileage_tesseract':[], 'mileage_vision':[]}\n",
    "for filename in os.listdir(directory):\n",
    "    img_path = os.path.join(directory, filename)\n",
    "    if os.path.isfile(img_path):\n",
    "        mileage_dict['name'].append(img_path)\n",
    "        mileage_dict['mileage_tesseract'].append(main(img_path, config))\n",
    "        mileage_dict['mileage_vision'].append(main(img_path, config_2))\n",
    "mileage_df = pd.DataFrame.from_dict(mileage_dict)\n",
    "display(mileage_df)"
   ]
  }
 ],
 "metadata": {
  "kernelspec": {
   "display_name": "base",
   "language": "python",
   "name": "python3"
  },
  "language_info": {
   "codemirror_mode": {
    "name": "ipython",
    "version": 3
   },
   "file_extension": ".py",
   "mimetype": "text/x-python",
   "name": "python",
   "nbconvert_exporter": "python",
   "pygments_lexer": "ipython3",
   "version": "3.7.0"
  },
  "orig_nbformat": 4
 },
 "nbformat": 4,
 "nbformat_minor": 2
}
